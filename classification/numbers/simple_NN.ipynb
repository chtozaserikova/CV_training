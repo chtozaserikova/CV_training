{
 "cells": [
  {
   "attachments": {},
   "cell_type": "markdown",
   "metadata": {},
   "source": [
    "# Пайплайн любой простой нейронки:\n",
    "1. Датасет+аугментация при необходимости\n",
    "2. Dataloader\n",
    "3. Архитектура\n",
    "4. Оптимизатор, loss, метрики\n",
    "5. Обучение\n",
    "6. Валидация"
   ]
  },
  {
   "cell_type": "code",
   "execution_count": 19,
   "metadata": {},
   "outputs": [],
   "source": [
    "import torch\n",
    "import torch.nn as nn\n",
    "import torch.nn.functional as F\n",
    "import torchvision as tv\n",
    "import PIL.Image as Image\n",
    "\n",
    "import numpy as np\n",
    "import matplotlib.pyplot as plt\n",
    "import cv2\n",
    "import os\n",
    "\n",
    "from tqdm import tqdm"
   ]
  },
  {
   "cell_type": "code",
   "execution_count": 2,
   "metadata": {},
   "outputs": [],
   "source": [
    "#1\n",
    "trans = tv.transforms.Compose([\n",
    "    tv.transforms.ToTensor()\n",
    "])\n",
    "\n",
    "ds_mnist = tv.datasets.MNIST('./datasets', download=True, transform=trans)"
   ]
  },
  {
   "attachments": {},
   "cell_type": "markdown",
   "metadata": {},
   "source": [
    "размерность снимков в даталоудере: (batch_size, channels, height, width)"
   ]
  },
  {
   "cell_type": "code",
   "execution_count": 4,
   "metadata": {},
   "outputs": [],
   "source": [
    "#2\n",
    "batch_size = 16\n",
    "dataloader = torch.utils.data.DataLoader(\n",
    "    ds_mnist, batch_size=batch_size, shuffle=True,\n",
    "    num_workers=1, drop_last=True\n",
    ")"
   ]
  },
  {
   "cell_type": "code",
   "execution_count": 5,
   "metadata": {},
   "outputs": [],
   "source": [
    "#3\n",
    "class Neural_numbers(nn.Module):\n",
    "  def __init__(self):\n",
    "    super().__init__()\n",
    "    self.flat = nn.Flatten()\n",
    "    self.linear1 = nn.Linear(28*28, 100)\n",
    "    self.linear2 = nn.Linear(100, 10)\n",
    "    self.act = nn.ReLU()\n",
    "\n",
    "  def forward(self, x):\n",
    "    out = self.flat(x)\n",
    "    out = self.linear1(out)\n",
    "    out = self.act(out)\n",
    "    out = self.linear2(out)\n",
    "\n",
    "    return out\n",
    "  \n",
    "model = Neural_numbers()"
   ]
  },
  {
   "cell_type": "code",
   "execution_count": 6,
   "metadata": {},
   "outputs": [],
   "source": [
    "#4\n",
    "loss_fn = nn.CrossEntropyLoss()\n",
    "     \n",
    "optimizer = torch.optim.SGD(model.parameters(), lr=1e-4, momentum=0.9)\n",
    "\n",
    "def accuracy(pred, label):\n",
    "  answer = F.softmax(pred.detach()).numpy().argmax(1) == label.numpy().argmax(1) \n",
    "  return answer.mean()"
   ]
  },
  {
   "cell_type": "code",
   "execution_count": 9,
   "metadata": {},
   "outputs": [
    {
     "name": "stderr",
     "output_type": "stream",
     "text": [
      "  0%|          | 0/3750 [00:00<?, ?it/s]C:\\Users\\Sveta\\AppData\\Local\\Temp\\ipykernel_18288\\188235749.py:2: UserWarning: Implicit dimension choice for softmax has been deprecated. Change the call to include dim=X as an argument.\n",
      "  answer = F.softmax(pred.detach()).numpy().argmax(1) == label.numpy().argmax(1)\n",
      "loss: 1.43036\taccuracy: 0.688: 100%|██████████| 3750/3750 [00:37<00:00, 100.62it/s]\n"
     ]
    },
    {
     "name": "stdout",
     "output_type": "stream",
     "text": [
      "1.8501593101183573\n",
      "0.5956333333333333\n"
     ]
    },
    {
     "name": "stderr",
     "output_type": "stream",
     "text": [
      "loss: 1.02441\taccuracy: 0.625: 100%|██████████| 3750/3750 [00:32<00:00, 115.58it/s]\n"
     ]
    },
    {
     "name": "stdout",
     "output_type": "stream",
     "text": [
      "0.9491666295925776\n",
      "0.8061333333333334\n"
     ]
    },
    {
     "name": "stderr",
     "output_type": "stream",
     "text": [
      "loss: 0.52377\taccuracy: 0.875: 100%|██████████| 3750/3750 [00:28<00:00, 130.06it/s]\n"
     ]
    },
    {
     "name": "stdout",
     "output_type": "stream",
     "text": [
      "0.6306459437449773\n",
      "0.8513666666666667\n"
     ]
    },
    {
     "name": "stderr",
     "output_type": "stream",
     "text": [
      "loss: 0.72796\taccuracy: 0.875: 100%|██████████| 3750/3750 [00:27<00:00, 137.28it/s]\n"
     ]
    },
    {
     "name": "stdout",
     "output_type": "stream",
     "text": [
      "0.511849443312486\n",
      "0.8711833333333333\n"
     ]
    },
    {
     "name": "stderr",
     "output_type": "stream",
     "text": [
      "loss: 0.19689\taccuracy: 1.000: 100%|██████████| 3750/3750 [00:27<00:00, 136.71it/s]\n"
     ]
    },
    {
     "name": "stdout",
     "output_type": "stream",
     "text": [
      "0.45117796851793923\n",
      "0.8818666666666667\n"
     ]
    },
    {
     "name": "stderr",
     "output_type": "stream",
     "text": [
      "loss: 0.29791\taccuracy: 0.938: 100%|██████████| 3750/3750 [00:28<00:00, 133.44it/s]\n"
     ]
    },
    {
     "name": "stdout",
     "output_type": "stream",
     "text": [
      "0.4145472069521745\n",
      "0.8883833333333333\n"
     ]
    },
    {
     "name": "stderr",
     "output_type": "stream",
     "text": [
      "loss: 0.25630\taccuracy: 1.000: 100%|██████████| 3750/3750 [00:34<00:00, 107.88it/s]\n"
     ]
    },
    {
     "name": "stdout",
     "output_type": "stream",
     "text": [
      "0.38966205333173276\n",
      "0.8932833333333333\n"
     ]
    },
    {
     "name": "stderr",
     "output_type": "stream",
     "text": [
      "loss: 0.32895\taccuracy: 0.938: 100%|██████████| 3750/3750 [00:28<00:00, 132.57it/s]\n"
     ]
    },
    {
     "name": "stdout",
     "output_type": "stream",
     "text": [
      "0.3716093897809585\n",
      "0.8973833333333333\n"
     ]
    },
    {
     "name": "stderr",
     "output_type": "stream",
     "text": [
      "loss: 0.23543\taccuracy: 0.938: 100%|██████████| 3750/3750 [00:32<00:00, 114.25it/s]\n"
     ]
    },
    {
     "name": "stdout",
     "output_type": "stream",
     "text": [
      "0.35744030448893704\n",
      "0.8999\n"
     ]
    },
    {
     "name": "stderr",
     "output_type": "stream",
     "text": [
      "loss: 0.30759\taccuracy: 0.875: 100%|██████████| 3750/3750 [00:29<00:00, 125.96it/s]\n"
     ]
    },
    {
     "name": "stdout",
     "output_type": "stream",
     "text": [
      "0.34590786592562994\n",
      "0.90285\n"
     ]
    },
    {
     "name": "stderr",
     "output_type": "stream",
     "text": [
      "loss: 0.19990\taccuracy: 0.938: 100%|██████████| 3750/3750 [00:25<00:00, 147.94it/s]\n"
     ]
    },
    {
     "name": "stdout",
     "output_type": "stream",
     "text": [
      "0.33622836098968983\n",
      "0.9055333333333333\n"
     ]
    },
    {
     "name": "stderr",
     "output_type": "stream",
     "text": [
      "loss: 0.52729\taccuracy: 0.812: 100%|██████████| 3750/3750 [00:26<00:00, 140.17it/s]\n"
     ]
    },
    {
     "name": "stdout",
     "output_type": "stream",
     "text": [
      "0.32783074641476073\n",
      "0.9074\n"
     ]
    },
    {
     "name": "stderr",
     "output_type": "stream",
     "text": [
      "loss: 0.16386\taccuracy: 1.000: 100%|██████████| 3750/3750 [00:31<00:00, 117.66it/s]\n"
     ]
    },
    {
     "name": "stdout",
     "output_type": "stream",
     "text": [
      "0.3204520930474003\n",
      "0.9093666666666667\n"
     ]
    },
    {
     "name": "stderr",
     "output_type": "stream",
     "text": [
      "loss: 0.27028\taccuracy: 0.938: 100%|██████████| 3750/3750 [00:32<00:00, 116.53it/s]\n"
     ]
    },
    {
     "name": "stdout",
     "output_type": "stream",
     "text": [
      "0.3137675092195471\n",
      "0.9114\n"
     ]
    },
    {
     "name": "stderr",
     "output_type": "stream",
     "text": [
      "loss: 0.34533\taccuracy: 0.750: 100%|██████████| 3750/3750 [00:30<00:00, 124.19it/s]\n"
     ]
    },
    {
     "name": "stdout",
     "output_type": "stream",
     "text": [
      "0.3076208320200443\n",
      "0.9131833333333333\n"
     ]
    },
    {
     "name": "stderr",
     "output_type": "stream",
     "text": [
      "loss: 0.85941\taccuracy: 0.625: 100%|██████████| 3750/3750 [00:31<00:00, 119.54it/s]\n"
     ]
    },
    {
     "name": "stdout",
     "output_type": "stream",
     "text": [
      "0.30198793118645745\n",
      "0.9141666666666667\n"
     ]
    },
    {
     "name": "stderr",
     "output_type": "stream",
     "text": [
      "loss: 0.49158\taccuracy: 0.875: 100%|██████████| 3750/3750 [00:32<00:00, 116.26it/s]\n"
     ]
    },
    {
     "name": "stdout",
     "output_type": "stream",
     "text": [
      "0.2966737826739748\n",
      "0.9158333333333334\n"
     ]
    },
    {
     "name": "stderr",
     "output_type": "stream",
     "text": [
      "loss: 0.22518\taccuracy: 0.875: 100%|██████████| 3750/3750 [00:31<00:00, 119.30it/s]\n"
     ]
    },
    {
     "name": "stdout",
     "output_type": "stream",
     "text": [
      "0.29187356265286607\n",
      "0.9174333333333333\n"
     ]
    },
    {
     "name": "stderr",
     "output_type": "stream",
     "text": [
      "loss: 0.25446\taccuracy: 0.875: 100%|██████████| 3750/3750 [00:32<00:00, 116.68it/s]\n"
     ]
    },
    {
     "name": "stdout",
     "output_type": "stream",
     "text": [
      "0.28697883097827437\n",
      "0.91885\n"
     ]
    },
    {
     "name": "stderr",
     "output_type": "stream",
     "text": [
      "loss: 0.50236\taccuracy: 0.812: 100%|██████████| 3750/3750 [00:33<00:00, 111.62it/s]\n"
     ]
    },
    {
     "name": "stdout",
     "output_type": "stream",
     "text": [
      "0.28253404787133135\n",
      "0.9201666666666667\n"
     ]
    },
    {
     "name": "stderr",
     "output_type": "stream",
     "text": [
      "loss: 0.15360\taccuracy: 1.000: 100%|██████████| 3750/3750 [00:31<00:00, 117.69it/s]\n"
     ]
    },
    {
     "name": "stdout",
     "output_type": "stream",
     "text": [
      "0.27816550877938667\n",
      "0.92165\n"
     ]
    },
    {
     "name": "stderr",
     "output_type": "stream",
     "text": [
      "loss: 0.38184\taccuracy: 0.938: 100%|██████████| 3750/3750 [00:31<00:00, 117.24it/s]\n"
     ]
    },
    {
     "name": "stdout",
     "output_type": "stream",
     "text": [
      "0.2739951670294007\n",
      "0.9226166666666666\n"
     ]
    },
    {
     "name": "stderr",
     "output_type": "stream",
     "text": [
      "loss: 0.22669\taccuracy: 0.875: 100%|██████████| 3750/3750 [00:32<00:00, 114.61it/s]\n"
     ]
    },
    {
     "name": "stdout",
     "output_type": "stream",
     "text": [
      "0.26992218252892297\n",
      "0.9239166666666667\n"
     ]
    },
    {
     "name": "stderr",
     "output_type": "stream",
     "text": [
      "loss: 0.25490\taccuracy: 0.875: 100%|██████████| 3750/3750 [00:32<00:00, 115.29it/s]\n"
     ]
    },
    {
     "name": "stdout",
     "output_type": "stream",
     "text": [
      "0.2661511160055796\n",
      "0.9246\n"
     ]
    },
    {
     "name": "stderr",
     "output_type": "stream",
     "text": [
      "loss: 0.14894\taccuracy: 1.000: 100%|██████████| 3750/3750 [00:29<00:00, 129.16it/s]\n"
     ]
    },
    {
     "name": "stdout",
     "output_type": "stream",
     "text": [
      "0.26239317185233035\n",
      "0.9261833333333334\n"
     ]
    },
    {
     "name": "stderr",
     "output_type": "stream",
     "text": [
      "loss: 0.13506\taccuracy: 0.938: 100%|██████████| 3750/3750 [00:21<00:00, 171.29it/s]\n"
     ]
    },
    {
     "name": "stdout",
     "output_type": "stream",
     "text": [
      "0.2586875245797137\n",
      "0.9268833333333333\n"
     ]
    },
    {
     "name": "stderr",
     "output_type": "stream",
     "text": [
      "loss: 0.15621\taccuracy: 1.000: 100%|██████████| 3750/3750 [00:21<00:00, 171.09it/s]\n"
     ]
    },
    {
     "name": "stdout",
     "output_type": "stream",
     "text": [
      "0.2551839641608298\n",
      "0.9280833333333334\n"
     ]
    },
    {
     "name": "stderr",
     "output_type": "stream",
     "text": [
      "loss: 0.25880\taccuracy: 0.938: 100%|██████████| 3750/3750 [00:24<00:00, 150.58it/s]\n"
     ]
    },
    {
     "name": "stdout",
     "output_type": "stream",
     "text": [
      "0.25173272824585435\n",
      "0.92895\n"
     ]
    },
    {
     "name": "stderr",
     "output_type": "stream",
     "text": [
      "loss: 0.09385\taccuracy: 1.000: 100%|██████████| 3750/3750 [00:22<00:00, 167.85it/s]\n"
     ]
    },
    {
     "name": "stdout",
     "output_type": "stream",
     "text": [
      "0.24842658181240163\n",
      "0.9294333333333333\n"
     ]
    },
    {
     "name": "stderr",
     "output_type": "stream",
     "text": [
      "loss: 0.63945\taccuracy: 0.875: 100%|██████████| 3750/3750 [00:19<00:00, 197.09it/s]\n"
     ]
    },
    {
     "name": "stdout",
     "output_type": "stream",
     "text": [
      "0.24510286698738734\n",
      "0.93055\n"
     ]
    },
    {
     "name": "stderr",
     "output_type": "stream",
     "text": [
      "loss: 0.22870\taccuracy: 0.938: 100%|██████████| 3750/3750 [00:27<00:00, 138.75it/s]\n"
     ]
    },
    {
     "name": "stdout",
     "output_type": "stream",
     "text": [
      "0.24185495292320847\n",
      "0.9317166666666666\n"
     ]
    },
    {
     "name": "stderr",
     "output_type": "stream",
     "text": [
      "loss: 0.07648\taccuracy: 1.000: 100%|██████████| 3750/3750 [00:30<00:00, 122.63it/s]\n"
     ]
    },
    {
     "name": "stdout",
     "output_type": "stream",
     "text": [
      "0.23884443319290877\n",
      "0.9329666666666667\n"
     ]
    },
    {
     "name": "stderr",
     "output_type": "stream",
     "text": [
      "loss: 0.05231\taccuracy: 1.000: 100%|██████████| 3750/3750 [00:31<00:00, 118.42it/s]\n"
     ]
    },
    {
     "name": "stdout",
     "output_type": "stream",
     "text": [
      "0.2358221060519417\n",
      "0.9334333333333333\n"
     ]
    },
    {
     "name": "stderr",
     "output_type": "stream",
     "text": [
      "loss: 0.09097\taccuracy: 1.000: 100%|██████████| 3750/3750 [00:28<00:00, 129.82it/s]\n"
     ]
    },
    {
     "name": "stdout",
     "output_type": "stream",
     "text": [
      "0.23283767065877717\n",
      "0.9344666666666667\n"
     ]
    },
    {
     "name": "stderr",
     "output_type": "stream",
     "text": [
      "loss: 0.18191\taccuracy: 0.938: 100%|██████████| 3750/3750 [00:27<00:00, 137.13it/s]\n"
     ]
    },
    {
     "name": "stdout",
     "output_type": "stream",
     "text": [
      "0.22997004757771888\n",
      "0.9351\n"
     ]
    },
    {
     "name": "stderr",
     "output_type": "stream",
     "text": [
      "loss: 0.43546\taccuracy: 0.875: 100%|██████████| 3750/3750 [00:28<00:00, 130.67it/s]\n"
     ]
    },
    {
     "name": "stdout",
     "output_type": "stream",
     "text": [
      "0.22714834766238928\n",
      "0.9359\n"
     ]
    },
    {
     "name": "stderr",
     "output_type": "stream",
     "text": [
      "loss: 0.08269\taccuracy: 1.000: 100%|██████████| 3750/3750 [00:27<00:00, 136.86it/s]\n"
     ]
    },
    {
     "name": "stdout",
     "output_type": "stream",
     "text": [
      "0.2244356631780664\n",
      "0.9369333333333333\n"
     ]
    },
    {
     "name": "stderr",
     "output_type": "stream",
     "text": [
      "loss: 0.13699\taccuracy: 0.938: 100%|██████████| 3750/3750 [00:23<00:00, 161.21it/s]\n"
     ]
    },
    {
     "name": "stdout",
     "output_type": "stream",
     "text": [
      "0.22171181545108556\n",
      "0.9377333333333333\n"
     ]
    },
    {
     "name": "stderr",
     "output_type": "stream",
     "text": [
      "loss: 0.16410\taccuracy: 0.938: 100%|██████████| 3750/3750 [00:28<00:00, 129.58it/s]\n"
     ]
    },
    {
     "name": "stdout",
     "output_type": "stream",
     "text": [
      "0.21914918004572392\n",
      "0.9384333333333333\n"
     ]
    },
    {
     "name": "stderr",
     "output_type": "stream",
     "text": [
      "loss: 0.23319\taccuracy: 0.812: 100%|██████████| 3750/3750 [00:30<00:00, 122.70it/s]\n"
     ]
    },
    {
     "name": "stdout",
     "output_type": "stream",
     "text": [
      "0.21660485905657212\n",
      "0.9389833333333333\n"
     ]
    },
    {
     "name": "stderr",
     "output_type": "stream",
     "text": [
      "loss: 0.09693\taccuracy: 1.000: 100%|██████████| 3750/3750 [00:25<00:00, 145.66it/s]\n"
     ]
    },
    {
     "name": "stdout",
     "output_type": "stream",
     "text": [
      "0.2140486120685935\n",
      "0.9399333333333333\n"
     ]
    },
    {
     "name": "stderr",
     "output_type": "stream",
     "text": [
      "loss: 0.34364\taccuracy: 0.812: 100%|██████████| 3750/3750 [00:28<00:00, 132.84it/s]\n"
     ]
    },
    {
     "name": "stdout",
     "output_type": "stream",
     "text": [
      "0.2115423995025456\n",
      "0.9406333333333333\n"
     ]
    },
    {
     "name": "stderr",
     "output_type": "stream",
     "text": [
      "loss: 0.12937\taccuracy: 1.000: 100%|██████████| 3750/3750 [00:26<00:00, 143.45it/s]\n"
     ]
    },
    {
     "name": "stdout",
     "output_type": "stream",
     "text": [
      "0.2091125150933862\n",
      "0.94145\n"
     ]
    },
    {
     "name": "stderr",
     "output_type": "stream",
     "text": [
      "loss: 0.14058\taccuracy: 0.938: 100%|██████████| 3750/3750 [00:26<00:00, 144.05it/s]\n"
     ]
    },
    {
     "name": "stdout",
     "output_type": "stream",
     "text": [
      "0.20668219699412585\n",
      "0.9421666666666667\n"
     ]
    },
    {
     "name": "stderr",
     "output_type": "stream",
     "text": [
      "loss: 0.17697\taccuracy: 1.000: 100%|██████████| 3750/3750 [00:30<00:00, 122.16it/s]\n"
     ]
    },
    {
     "name": "stdout",
     "output_type": "stream",
     "text": [
      "0.2042596019702653\n",
      "0.94275\n"
     ]
    },
    {
     "name": "stderr",
     "output_type": "stream",
     "text": [
      "loss: 0.48832\taccuracy: 0.938: 100%|██████████| 3750/3750 [00:32<00:00, 115.00it/s]\n"
     ]
    },
    {
     "name": "stdout",
     "output_type": "stream",
     "text": [
      "0.20201165066522855\n",
      "0.9435\n"
     ]
    },
    {
     "name": "stderr",
     "output_type": "stream",
     "text": [
      "loss: 0.07692\taccuracy: 1.000: 100%|██████████| 3750/3750 [00:29<00:00, 128.83it/s]\n"
     ]
    },
    {
     "name": "stdout",
     "output_type": "stream",
     "text": [
      "0.1997800999611616\n",
      "0.94405\n"
     ]
    },
    {
     "name": "stderr",
     "output_type": "stream",
     "text": [
      "loss: 0.29964\taccuracy: 0.875: 100%|██████████| 3750/3750 [00:27<00:00, 138.88it/s]\n"
     ]
    },
    {
     "name": "stdout",
     "output_type": "stream",
     "text": [
      "0.19759946950847904\n",
      "0.9446833333333333\n"
     ]
    },
    {
     "name": "stderr",
     "output_type": "stream",
     "text": [
      "loss: 1.15744\taccuracy: 0.875: 100%|██████████| 3750/3750 [00:22<00:00, 169.49it/s]\n"
     ]
    },
    {
     "name": "stdout",
     "output_type": "stream",
     "text": [
      "0.19530968768422802\n",
      "0.9455\n"
     ]
    },
    {
     "name": "stderr",
     "output_type": "stream",
     "text": [
      "loss: 0.15393\taccuracy: 0.938: 100%|██████████| 3750/3750 [00:21<00:00, 171.64it/s]"
     ]
    },
    {
     "name": "stdout",
     "output_type": "stream",
     "text": [
      "0.19329060785546898\n",
      "0.9458333333333333\n"
     ]
    },
    {
     "name": "stderr",
     "output_type": "stream",
     "text": [
      "\n"
     ]
    }
   ],
   "source": [
    "#5\n",
    "epochs = 50\n",
    "device = 'cpu'\n",
    "\n",
    "for epoch in range(epochs):\n",
    "  loss_val = 0\n",
    "  acc_val = 0\n",
    "  for img, label in (pbar := tqdm(dataloader)):\n",
    "    optimizer.zero_grad()\n",
    "    img = img.to(device)\n",
    "    label = label.to(device)\n",
    "    \n",
    "    label = F.one_hot(label, 10).float()\n",
    "    pred = model(img)\n",
    "    \n",
    "    loss = loss_fn(pred, label)\n",
    "\n",
    "    loss.backward()\n",
    "    loss_item = loss.item()\n",
    "    loss_val += loss_item\n",
    "\n",
    "    optimizer.step()\n",
    "\n",
    "    acc_current = accuracy(pred.cpu(), label.cpu())\n",
    "    acc_val += acc_current\n",
    "\n",
    "    pbar.set_description(f'loss: {loss_item:.5f}\\taccuracy: {acc_current:.3f}')\n",
    "  print(loss_val/len(dataloader))\n",
    "  print(acc_val/len(dataloader))"
   ]
  },
  {
   "cell_type": "code",
   "execution_count": 75,
   "metadata": {},
   "outputs": [
    {
     "name": "stdout",
     "output_type": "stream",
     "text": [
      "(tensor([[  5.1090, -14.6043,   8.3383,  15.2358, -10.5089,  11.1139,  -6.0304,\n",
      "         -10.1426,  11.5956,  -5.5164]], grad_fn=<AddmmBackward0>), tensor(3))\n"
     ]
    },
    {
     "name": "stderr",
     "output_type": "stream",
     "text": [
      "C:\\Users\\Sveta\\AppData\\Local\\Temp\\ipykernel_18288\\1916879726.py:12: UserWarning: Implicit dimension choice for softmax has been deprecated. Change the call to include dim=X as an argument.\n",
      "  num = F.softmax(pred).detach().argmax()\n"
     ]
    }
   ],
   "source": [
    "#6\n",
    "def for_val(path):\n",
    "    img = cv2.imread(path)\n",
    "    img = cv2.cvtColor(img, cv2.COLOR_BGR2GRAY)\n",
    "    img = img.astype(np.float32)/255.0\n",
    "    img.resize(28, 28)\n",
    "    img = np.expand_dims(img, axis = 0)\n",
    "    img = np.expand_dims(img, axis = 0)\n",
    "\n",
    "    t_img = torch.from_numpy(img)\n",
    "    pred = model(t_img)\n",
    "    num = F.softmax(pred).detach().argmax()\n",
    "    return pred, num\n",
    "\n",
    "print(for_val('2.png')) "
   ]
  }
 ],
 "metadata": {
  "kernelspec": {
   "display_name": "venv",
   "language": "python",
   "name": "python3"
  },
  "language_info": {
   "codemirror_mode": {
    "name": "ipython",
    "version": 3
   },
   "file_extension": ".py",
   "mimetype": "text/x-python",
   "name": "python",
   "nbconvert_exporter": "python",
   "pygments_lexer": "ipython3",
   "version": "3.10.5"
  },
  "orig_nbformat": 4
 },
 "nbformat": 4,
 "nbformat_minor": 2
}
