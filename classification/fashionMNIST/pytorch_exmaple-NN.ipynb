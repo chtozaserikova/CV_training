{
 "cells": [
  {
   "cell_type": "code",
   "execution_count": 2,
   "metadata": {},
   "outputs": [
    {
     "name": "stderr",
     "output_type": "stream",
     "text": [
      "c:\\Users\\Sveta\\projects\\CV_training\\venv\\lib\\site-packages\\tqdm\\auto.py:22: TqdmWarning: IProgress not found. Please update jupyter and ipywidgets. See https://ipywidgets.readthedocs.io/en/stable/user_install.html\n",
      "  from .autonotebook import tqdm as notebook_tqdm\n"
     ]
    }
   ],
   "source": [
    "import torch\n",
    "from torch import nn\n",
    "from torch.utils.data import DataLoader\n",
    "from torchvision import datasets\n",
    "from torchvision.transforms import ToTensor"
   ]
  },
  {
   "cell_type": "code",
   "execution_count": 3,
   "metadata": {},
   "outputs": [],
   "source": [
    "# Download training data from open datasets.\n",
    "training_data = datasets.FashionMNIST(\n",
    "    root=\"data\",\n",
    "    train=True,\n",
    "    download=True,\n",
    "    transform=ToTensor(),\n",
    ")\n",
    "\n",
    "# Download test data from open datasets.\n",
    "test_data = datasets.FashionMNIST(\n",
    "    root=\"data\",\n",
    "    train=False,\n",
    "    download=True,\n",
    "    transform=ToTensor(),\n",
    ")"
   ]
  },
  {
   "cell_type": "code",
   "execution_count": 4,
   "metadata": {},
   "outputs": [
    {
     "name": "stdout",
     "output_type": "stream",
     "text": [
      "Shape of X [N, C, H, W]: torch.Size([64, 1, 28, 28])\n",
      "Shape of y: torch.Size([64]) torch.int64\n"
     ]
    }
   ],
   "source": [
    "batch_size = 64\n",
    "\n",
    "# Create data loaders.\n",
    "train_dataloader = DataLoader(training_data, batch_size=batch_size)\n",
    "test_dataloader = DataLoader(test_data, batch_size=batch_size)\n",
    "\n",
    "for X, y in test_dataloader:\n",
    "    print(f\"Shape of X [N, C, H, W]: {X.shape}\")\n",
    "    print(f\"Shape of y: {y.shape} {y.dtype}\")\n",
    "    break"
   ]
  },
  {
   "cell_type": "code",
   "execution_count": 5,
   "metadata": {},
   "outputs": [
    {
     "name": "stdout",
     "output_type": "stream",
     "text": [
      "Using cpu device\n",
      "NeuralNetwork(\n",
      "  (flatten): Flatten(start_dim=1, end_dim=-1)\n",
      "  (linear_relu_stack): Sequential(\n",
      "    (0): Linear(in_features=784, out_features=512, bias=True)\n",
      "    (1): ReLU()\n",
      "    (2): Linear(in_features=512, out_features=512, bias=True)\n",
      "    (3): ReLU()\n",
      "    (4): Linear(in_features=512, out_features=10, bias=True)\n",
      "  )\n",
      ")\n"
     ]
    }
   ],
   "source": [
    "# Get cpu or gpu device for training.\n",
    "device = \"cuda\" if torch.cuda.is_available() else \"cpu\"\n",
    "print(f\"Using {device} device\")\n",
    "\n",
    "# Define model\n",
    "class NeuralNetwork(nn.Module):\n",
    "    def __init__(self):\n",
    "        super().__init__()\n",
    "        self.flatten = nn.Flatten()\n",
    "        self.linear_relu_stack = nn.Sequential(\n",
    "            nn.Linear(28*28, 512),\n",
    "            nn.ReLU(),\n",
    "            nn.Linear(512, 512),\n",
    "            nn.ReLU(),\n",
    "            nn.Linear(512, 10)\n",
    "        )\n",
    "\n",
    "    def forward(self, x):\n",
    "        x = self.flatten(x)\n",
    "        logits = self.linear_relu_stack(x)\n",
    "        return logits\n",
    "\n",
    "model = NeuralNetwork().to(device)\n",
    "print(model)"
   ]
  },
  {
   "cell_type": "code",
   "execution_count": 6,
   "metadata": {},
   "outputs": [],
   "source": [
    "loss_fn = nn.CrossEntropyLoss()\n",
    "optimizer = torch.optim.SGD(model.parameters(), lr=1e-3)"
   ]
  },
  {
   "cell_type": "code",
   "execution_count": 7,
   "metadata": {},
   "outputs": [],
   "source": [
    "def train(dataloader, model, loss_fn, optimizer):\n",
    "    size = len(dataloader.dataset)\n",
    "    model.train()\n",
    "    for batch, (X, y) in enumerate(dataloader):\n",
    "        X, y = X.to(device), y.to(device)\n",
    "\n",
    "        # Compute prediction error\n",
    "        pred = model(X)\n",
    "        loss = loss_fn(pred, y)\n",
    "\n",
    "        # Backpropagation\n",
    "        optimizer.zero_grad()\n",
    "        loss.backward()\n",
    "        optimizer.step()\n",
    "\n",
    "        if batch % 100 == 0:\n",
    "            loss, current = loss.item(), (batch + 1) * len(X)\n",
    "            print(f\"loss: {loss:>7f}  [{current:>5d}/{size:>5d}]\")\n",
    "\n",
    "\n",
    "def test(dataloader, model, loss_fn):\n",
    "    size = len(dataloader.dataset)\n",
    "    num_batches = len(dataloader)\n",
    "    model.eval()\n",
    "    test_loss, correct = 0, 0\n",
    "    with torch.no_grad():\n",
    "        for X, y in dataloader:\n",
    "            X, y = X.to(device), y.to(device)\n",
    "            pred = model(X)\n",
    "            test_loss += loss_fn(pred, y).item()\n",
    "            correct += (pred.argmax(1) == y).type(torch.float).sum().item()\n",
    "    test_loss /= num_batches\n",
    "    correct /= size\n",
    "    print(f\"Test Error: \\n Accuracy: {(100*correct):>0.1f}%, Avg loss: {test_loss:>8f} \\n\")"
   ]
  },
  {
   "cell_type": "code",
   "execution_count": 8,
   "metadata": {},
   "outputs": [
    {
     "name": "stdout",
     "output_type": "stream",
     "text": [
      "Epoch 1\n",
      "-------------------------------\n",
      "loss: 2.301699  [   64/60000]\n",
      "loss: 2.290861  [ 6464/60000]\n",
      "loss: 2.269072  [12864/60000]\n",
      "loss: 2.268365  [19264/60000]\n",
      "loss: 2.245603  [25664/60000]\n",
      "loss: 2.215160  [32064/60000]\n",
      "loss: 2.233651  [38464/60000]\n",
      "loss: 2.196044  [44864/60000]\n",
      "loss: 2.195424  [51264/60000]\n",
      "loss: 2.168017  [57664/60000]\n",
      "Test Error: \n",
      " Accuracy: 43.9%, Avg loss: 2.157001 \n",
      "\n",
      "Epoch 2\n",
      "-------------------------------\n",
      "loss: 2.162966  [   64/60000]\n",
      "loss: 2.150133  [ 6464/60000]\n",
      "loss: 2.090677  [12864/60000]\n",
      "loss: 2.117334  [19264/60000]\n",
      "loss: 2.051159  [25664/60000]\n",
      "loss: 1.996769  [32064/60000]\n",
      "loss: 2.040911  [38464/60000]\n",
      "loss: 1.951006  [44864/60000]\n",
      "loss: 1.963182  [51264/60000]\n",
      "loss: 1.898688  [57664/60000]\n",
      "Test Error: \n",
      " Accuracy: 53.0%, Avg loss: 1.884176 \n",
      "\n",
      "Epoch 3\n",
      "-------------------------------\n",
      "loss: 1.907459  [   64/60000]\n",
      "loss: 1.879368  [ 6464/60000]\n",
      "loss: 1.755643  [12864/60000]\n",
      "loss: 1.817462  [19264/60000]\n",
      "loss: 1.690084  [25664/60000]\n",
      "loss: 1.644881  [32064/60000]\n",
      "loss: 1.686910  [38464/60000]\n",
      "loss: 1.574646  [44864/60000]\n",
      "loss: 1.608662  [51264/60000]\n",
      "loss: 1.510293  [57664/60000]\n",
      "Test Error: \n",
      " Accuracy: 61.1%, Avg loss: 1.519069 \n",
      "\n",
      "Epoch 4\n",
      "-------------------------------\n",
      "loss: 1.574258  [   64/60000]\n",
      "loss: 1.548472  [ 6464/60000]\n",
      "loss: 1.392864  [12864/60000]\n",
      "loss: 1.478355  [19264/60000]\n",
      "loss: 1.351862  [25664/60000]\n",
      "loss: 1.346652  [32064/60000]\n",
      "loss: 1.369830  [38464/60000]\n",
      "loss: 1.287713  [44864/60000]\n",
      "loss: 1.329274  [51264/60000]\n",
      "loss: 1.229425  [57664/60000]\n",
      "Test Error: \n",
      " Accuracy: 63.1%, Avg loss: 1.256477 \n",
      "\n",
      "Epoch 5\n",
      "-------------------------------\n",
      "loss: 1.324974  [   64/60000]\n",
      "loss: 1.316943  [ 6464/60000]\n",
      "loss: 1.147841  [12864/60000]\n",
      "loss: 1.258847  [19264/60000]\n",
      "loss: 1.131240  [25664/60000]\n",
      "loss: 1.151780  [32064/60000]\n",
      "loss: 1.179447  [38464/60000]\n",
      "loss: 1.112353  [44864/60000]\n",
      "loss: 1.157541  [51264/60000]\n",
      "loss: 1.072497  [57664/60000]\n",
      "Test Error: \n",
      " Accuracy: 64.5%, Avg loss: 1.095155 \n",
      "\n",
      "Epoch 6\n",
      "-------------------------------\n",
      "loss: 1.160133  [   64/60000]\n",
      "loss: 1.172257  [ 6464/60000]\n",
      "loss: 0.985718  [12864/60000]\n",
      "loss: 1.123873  [19264/60000]\n",
      "loss: 0.992007  [25664/60000]\n",
      "loss: 1.019948  [32064/60000]\n",
      "loss: 1.063994  [38464/60000]\n",
      "loss: 1.001432  [44864/60000]\n",
      "loss: 1.045089  [51264/60000]\n",
      "loss: 0.976158  [57664/60000]\n",
      "Test Error: \n",
      " Accuracy: 65.8%, Avg loss: 0.990739 \n",
      "\n",
      "Epoch 7\n",
      "-------------------------------\n",
      "loss: 1.044587  [   64/60000]\n",
      "loss: 1.078440  [ 6464/60000]\n",
      "loss: 0.872983  [12864/60000]\n",
      "loss: 1.033687  [19264/60000]\n",
      "loss: 0.901885  [25664/60000]\n",
      "loss: 0.925222  [32064/60000]\n",
      "loss: 0.988448  [38464/60000]\n",
      "loss: 0.928231  [44864/60000]\n",
      "loss: 0.966255  [51264/60000]\n",
      "loss: 0.911366  [57664/60000]\n",
      "Test Error: \n",
      " Accuracy: 66.9%, Avg loss: 0.918630 \n",
      "\n",
      "Epoch 8\n",
      "-------------------------------\n",
      "loss: 0.958351  [   64/60000]\n",
      "loss: 1.012347  [ 6464/60000]\n",
      "loss: 0.790901  [12864/60000]\n",
      "loss: 0.968977  [19264/60000]\n",
      "loss: 0.840671  [25664/60000]\n",
      "loss: 0.854219  [32064/60000]\n",
      "loss: 0.935042  [38464/60000]\n",
      "loss: 0.878590  [44864/60000]\n",
      "loss: 0.908994  [51264/60000]\n",
      "loss: 0.864379  [57664/60000]\n",
      "Test Error: \n",
      " Accuracy: 67.8%, Avg loss: 0.866173 \n",
      "\n",
      "Epoch 9\n",
      "-------------------------------\n",
      "loss: 0.891526  [   64/60000]\n",
      "loss: 0.962130  [ 6464/60000]\n",
      "loss: 0.728666  [12864/60000]\n",
      "loss: 0.919797  [19264/60000]\n",
      "loss: 0.796786  [25664/60000]\n",
      "loss: 0.799887  [32064/60000]\n",
      "loss: 0.894690  [38464/60000]\n",
      "loss: 0.843709  [44864/60000]\n",
      "loss: 0.865923  [51264/60000]\n",
      "loss: 0.828020  [57664/60000]\n",
      "Test Error: \n",
      " Accuracy: 68.7%, Avg loss: 0.826093 \n",
      "\n",
      "Epoch 10\n",
      "-------------------------------\n",
      "loss: 0.837665  [   64/60000]\n",
      "loss: 0.921153  [ 6464/60000]\n",
      "loss: 0.679921  [12864/60000]\n",
      "loss: 0.880983  [19264/60000]\n",
      "loss: 0.763624  [25664/60000]\n",
      "loss: 0.757523  [32064/60000]\n",
      "loss: 0.862015  [38464/60000]\n",
      "loss: 0.817961  [44864/60000]\n",
      "loss: 0.832349  [51264/60000]\n",
      "loss: 0.798552  [57664/60000]\n",
      "Test Error: \n",
      " Accuracy: 70.0%, Avg loss: 0.794087 \n",
      "\n",
      "Done!\n"
     ]
    }
   ],
   "source": [
    "epochs = 10\n",
    "for t in range(epochs):\n",
    "    print(f\"Epoch {t+1}\\n-------------------------------\")\n",
    "    train(train_dataloader, model, loss_fn, optimizer)\n",
    "    test(test_dataloader, model, loss_fn)\n",
    "print(\"Done!\")"
   ]
  },
  {
   "cell_type": "code",
   "execution_count": 9,
   "metadata": {},
   "outputs": [
    {
     "name": "stdout",
     "output_type": "stream",
     "text": [
      "Saved PyTorch Model State to model.pth\n"
     ]
    }
   ],
   "source": [
    "torch.save(model.state_dict(), \"model.pth\")\n",
    "print(\"Saved PyTorch Model State to model.pth\")"
   ]
  },
  {
   "cell_type": "code",
   "execution_count": 10,
   "metadata": {},
   "outputs": [
    {
     "data": {
      "text/plain": [
       "<All keys matched successfully>"
      ]
     },
     "execution_count": 10,
     "metadata": {},
     "output_type": "execute_result"
    }
   ],
   "source": [
    "model = NeuralNetwork()\n",
    "model.load_state_dict(torch.load(\"model.pth\"))"
   ]
  },
  {
   "cell_type": "code",
   "execution_count": 11,
   "metadata": {},
   "outputs": [
    {
     "name": "stdout",
     "output_type": "stream",
     "text": [
      "Predicted: \"Ankle boot\", Actual: \"Ankle boot\"\n"
     ]
    }
   ],
   "source": [
    "classes = [\n",
    "    \"T-shirt/top\",\n",
    "    \"Trouser\",\n",
    "    \"Pullover\",\n",
    "    \"Dress\",\n",
    "    \"Coat\",\n",
    "    \"Sandal\",\n",
    "    \"Shirt\",\n",
    "    \"Sneaker\",\n",
    "    \"Bag\",\n",
    "    \"Ankle boot\",\n",
    "]\n",
    "\n",
    "model.eval()\n",
    "x, y = test_data[0][0], test_data[0][1]\n",
    "with torch.no_grad():\n",
    "    pred = model(x)\n",
    "    predicted, actual = classes[pred[0].argmax(0)], classes[y]\n",
    "    print(f'Predicted: \"{predicted}\", Actual: \"{actual}\"')"
   ]
  }
 ],
 "metadata": {
  "kernelspec": {
   "display_name": "venv",
   "language": "python",
   "name": "python3"
  },
  "language_info": {
   "codemirror_mode": {
    "name": "ipython",
    "version": 3
   },
   "file_extension": ".py",
   "mimetype": "text/x-python",
   "name": "python",
   "nbconvert_exporter": "python",
   "pygments_lexer": "ipython3",
   "version": "3.10.5"
  },
  "orig_nbformat": 4
 },
 "nbformat": 4,
 "nbformat_minor": 2
}
