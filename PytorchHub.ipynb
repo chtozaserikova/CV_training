{
  "cells": [
    {
      "cell_type": "markdown",
      "metadata": {
        "id": "7Q_k4h39gNZF"
      },
      "source": [
        "#Yolo v5"
      ]
    },
    {
      "cell_type": "code",
      "execution_count": 32,
      "metadata": {
        "colab": {
          "base_uri": "https://localhost:8080/"
        },
        "id": "TVHpnGF-vqoG",
        "outputId": "747ad37b-c4dc-4018-9e5c-f881674df90f"
      },
      "outputs": [
        {
          "name": "stdout",
          "output_type": "stream",
          "text": [
            "Looking in indexes: https://pypi.org/simple, https://us-python.pkg.dev/colab-wheels/public/simple/\n",
            "Requirement already satisfied: torchvision==0.13.0 in /usr/local/lib/python3.7/dist-packages (0.13.0)\n",
            "Requirement already satisfied: typing-extensions in /usr/local/lib/python3.7/dist-packages (from torchvision==0.13.0) (4.1.1)\n",
            "Requirement already satisfied: numpy in /usr/local/lib/python3.7/dist-packages (from torchvision==0.13.0) (1.21.6)\n",
            "Requirement already satisfied: requests in /usr/local/lib/python3.7/dist-packages (from torchvision==0.13.0) (2.23.0)\n",
            "Requirement already satisfied: pillow!=8.3.*,>=5.3.0 in /usr/local/lib/python3.7/dist-packages (from torchvision==0.13.0) (7.1.2)\n",
            "Requirement already satisfied: torch==1.12.0 in /usr/local/lib/python3.7/dist-packages (from torchvision==0.13.0) (1.12.0)\n",
            "Requirement already satisfied: urllib3!=1.25.0,!=1.25.1,<1.26,>=1.21.1 in /usr/local/lib/python3.7/dist-packages (from requests->torchvision==0.13.0) (1.24.3)\n",
            "Requirement already satisfied: idna<3,>=2.5 in /usr/local/lib/python3.7/dist-packages (from requests->torchvision==0.13.0) (2.10)\n",
            "Requirement already satisfied: chardet<4,>=3.0.2 in /usr/local/lib/python3.7/dist-packages (from requests->torchvision==0.13.0) (3.0.4)\n",
            "Requirement already satisfied: certifi>=2017.4.17 in /usr/local/lib/python3.7/dist-packages (from requests->torchvision==0.13.0) (2022.9.24)\n",
            "Looking in indexes: https://pypi.org/simple, https://us-python.pkg.dev/colab-wheels/public/simple/\n",
            "Requirement already satisfied: torch==1.12.0 in /usr/local/lib/python3.7/dist-packages (1.12.0)\n",
            "Requirement already satisfied: typing-extensions in /usr/local/lib/python3.7/dist-packages (from torch==1.12.0) (4.1.1)\n"
          ]
        }
      ],
      "source": [
        "!pip install torchvision==0.13.0\n",
        "!pip install torch==1.12.0"
      ]
    },
    {
      "cell_type": "code",
      "execution_count": 33,
      "metadata": {
        "id": "IO4vKvAPjxfX"
      },
      "outputs": [],
      "source": [
        "import torch\n",
        "from PIL import Image, ImageGrab\n",
        "from torchvision.transforms import ToTensor"
      ]
    },
    {
      "cell_type": "code",
      "execution_count": 34,
      "metadata": {
        "colab": {
          "base_uri": "https://localhost:8080/"
        },
        "id": "gNWNlkh9xYe3",
        "outputId": "4fed6666-7e3f-40ae-b016-93b4065c7523"
      },
      "outputs": [
        {
          "name": "stdout",
          "output_type": "stream",
          "text": [
            "1.12.1+cu113\n"
          ]
        }
      ],
      "source": [
        "print(torch.version.__version__)"
      ]
    },
    {
      "cell_type": "code",
      "execution_count": 35,
      "metadata": {
        "colab": {
          "base_uri": "https://localhost:8080/",
          "height": 188,
          "referenced_widgets": [
            "7f72d3fcc97a4c29986e141041aa9e8e",
            "2d3ef50ffd0e49ae8c97fc466d6143b5",
            "426ed793a3fc4602a672ea620e624ef5",
            "fc81eed1bb824134a9ff234508744e76",
            "f90bdedc50a64b32a16933b7c11cd06b",
            "a6fbacbe9d704bacb0bb16d90f468077",
            "4605f327c7ed418e9bd944b80e799fa9",
            "8a4429f61e834b7cbad81df884c546a9",
            "dd0a850ff302457ca96375a55cf4dd0b",
            "3c5c56561d92485bb7d17be1d8fc4cf9",
            "34dbb9898928472088b838ba710e5ecd"
          ]
        },
        "id": "9VZZ1ZfRjxfb",
        "outputId": "3949d512-429d-4de8-8c73-35ad2c069a5e"
      },
      "outputs": [
        {
          "name": "stderr",
          "output_type": "stream",
          "text": [
            "Using cache found in /root/.cache/torch/hub/ultralytics_yolov5_master\n",
            "YOLOv5 🚀 2022-10-7 Python-3.7.14 torch-1.12.1+cu113 CPU\n",
            "\n",
            "Downloading https://github.com/ultralytics/yolov5/releases/download/v6.2/yolov5s.pt to yolov5s.pt...\n"
          ]
        },
        {
          "data": {
            "application/vnd.jupyter.widget-view+json": {
              "model_id": "7f72d3fcc97a4c29986e141041aa9e8e",
              "version_major": 2,
              "version_minor": 0
            },
            "text/plain": [
              "  0%|          | 0.00/14.1M [00:00<?, ?B/s]"
            ]
          },
          "metadata": {},
          "output_type": "display_data"
        },
        {
          "name": "stderr",
          "output_type": "stream",
          "text": [
            "\n",
            "Fusing layers... \n",
            "YOLOv5s summary: 213 layers, 7225885 parameters, 0 gradients\n",
            "Adding AutoShape... \n"
          ]
        }
      ],
      "source": [
        "yolo_model = torch.hub.load('ultralytics/yolov5', 'yolov5s', pretrained=True)\n",
        "\n",
        "img_path = '/content/we.jpg'\n",
        "imgs = Image.open(img_path) "
      ]
    },
    {
      "cell_type": "markdown",
      "metadata": {
        "id": "Yis6RQIpNJVD"
      },
      "source": [
        "### Настройки вывода"
      ]
    },
    {
      "cell_type": "code",
      "execution_count": 36,
      "metadata": {
        "id": "oRntzNR82gDr"
      },
      "outputs": [],
      "source": [
        "# Inference Settings\n",
        "yolo_model.conf = 0.3  # порог уверенности модели для фильтрации предсказаний \n",
        "yolo_model.iou = 0.4  # пороговое значение NMS IoU\n",
        "yolo_model.agnostic = False  # обнаружение объектов, не зависящих от класса\n",
        "yolo_model.multi_label = False  # несколько классов на один bbox\n",
        "yolo_model.classes = [0]  # выбор классов из COCO датасета, нулевой класс = persons\n",
        "yolo_model.max_det = 10  # максимальное количество обнаружений на одно изображение\n",
        "yolo_model.amp = True  # атоматический вывод смешанной точности"
      ]
    },
    {
      "cell_type": "code",
      "execution_count": 37,
      "metadata": {
        "colab": {
          "base_uri": "https://localhost:8080/"
        },
        "id": "HAzwjjQejxff",
        "outputId": "a453f96d-86e9-440d-fa28-4e5c7fef8f91"
      },
      "outputs": [
        {
          "name": "stderr",
          "output_type": "stream",
          "text": [
            "image 1/1: 1280x962 1 person\n",
            "Speed: 46.0ms pre-process, 358.0ms inference, 2.0ms NMS per image at shape (1, 3, 640, 512)\n",
            "Saved 1 image to \u001b[1mruns/detect/exp4\u001b[0m\n"
          ]
        },
        {
          "name": "stdout",
          "output_type": "stream",
          "text": [
            "CPU times: user 443 ms, sys: 33.1 ms, total: 476 ms\n",
            "Wall time: 475 ms\n"
          ]
        }
      ],
      "source": [
        "%%time\n",
        "\n",
        "yolo_results = yolo_model(imgs)\n",
        "yolo_results.print()\n",
        "yolo_results.save() "
      ]
    },
    {
      "cell_type": "code",
      "execution_count": 38,
      "metadata": {
        "colab": {
          "base_uri": "https://localhost:8080/",
          "height": 81
        },
        "id": "UD-njN-VsZhb",
        "outputId": "64cd411a-c752-45b4-847f-66252c87b736"
      },
      "outputs": [
        {
          "data": {
            "text/html": [
              "\n",
              "  <div id=\"df-c2e92a3d-c086-40ad-a499-8a178d226149\">\n",
              "    <div class=\"colab-df-container\">\n",
              "      <div>\n",
              "<style scoped>\n",
              "    .dataframe tbody tr th:only-of-type {\n",
              "        vertical-align: middle;\n",
              "    }\n",
              "\n",
              "    .dataframe tbody tr th {\n",
              "        vertical-align: top;\n",
              "    }\n",
              "\n",
              "    .dataframe thead th {\n",
              "        text-align: right;\n",
              "    }\n",
              "</style>\n",
              "<table border=\"1\" class=\"dataframe\">\n",
              "  <thead>\n",
              "    <tr style=\"text-align: right;\">\n",
              "      <th></th>\n",
              "      <th>xmin</th>\n",
              "      <th>ymin</th>\n",
              "      <th>xmax</th>\n",
              "      <th>ymax</th>\n",
              "      <th>confidence</th>\n",
              "      <th>class</th>\n",
              "      <th>name</th>\n",
              "    </tr>\n",
              "  </thead>\n",
              "  <tbody>\n",
              "    <tr>\n",
              "      <th>0</th>\n",
              "      <td>32.18457</td>\n",
              "      <td>9.024048</td>\n",
              "      <td>939.7052</td>\n",
              "      <td>1235.446655</td>\n",
              "      <td>0.368445</td>\n",
              "      <td>0</td>\n",
              "      <td>person</td>\n",
              "    </tr>\n",
              "  </tbody>\n",
              "</table>\n",
              "</div>\n",
              "      <button class=\"colab-df-convert\" onclick=\"convertToInteractive('df-c2e92a3d-c086-40ad-a499-8a178d226149')\"\n",
              "              title=\"Convert this dataframe to an interactive table.\"\n",
              "              style=\"display:none;\">\n",
              "        \n",
              "  <svg xmlns=\"http://www.w3.org/2000/svg\" height=\"24px\"viewBox=\"0 0 24 24\"\n",
              "       width=\"24px\">\n",
              "    <path d=\"M0 0h24v24H0V0z\" fill=\"none\"/>\n",
              "    <path d=\"M18.56 5.44l.94 2.06.94-2.06 2.06-.94-2.06-.94-.94-2.06-.94 2.06-2.06.94zm-11 1L8.5 8.5l.94-2.06 2.06-.94-2.06-.94L8.5 2.5l-.94 2.06-2.06.94zm10 10l.94 2.06.94-2.06 2.06-.94-2.06-.94-.94-2.06-.94 2.06-2.06.94z\"/><path d=\"M17.41 7.96l-1.37-1.37c-.4-.4-.92-.59-1.43-.59-.52 0-1.04.2-1.43.59L10.3 9.45l-7.72 7.72c-.78.78-.78 2.05 0 2.83L4 21.41c.39.39.9.59 1.41.59.51 0 1.02-.2 1.41-.59l7.78-7.78 2.81-2.81c.8-.78.8-2.07 0-2.86zM5.41 20L4 18.59l7.72-7.72 1.47 1.35L5.41 20z\"/>\n",
              "  </svg>\n",
              "      </button>\n",
              "      \n",
              "  <style>\n",
              "    .colab-df-container {\n",
              "      display:flex;\n",
              "      flex-wrap:wrap;\n",
              "      gap: 12px;\n",
              "    }\n",
              "\n",
              "    .colab-df-convert {\n",
              "      background-color: #E8F0FE;\n",
              "      border: none;\n",
              "      border-radius: 50%;\n",
              "      cursor: pointer;\n",
              "      display: none;\n",
              "      fill: #1967D2;\n",
              "      height: 32px;\n",
              "      padding: 0 0 0 0;\n",
              "      width: 32px;\n",
              "    }\n",
              "\n",
              "    .colab-df-convert:hover {\n",
              "      background-color: #E2EBFA;\n",
              "      box-shadow: 0px 1px 2px rgba(60, 64, 67, 0.3), 0px 1px 3px 1px rgba(60, 64, 67, 0.15);\n",
              "      fill: #174EA6;\n",
              "    }\n",
              "\n",
              "    [theme=dark] .colab-df-convert {\n",
              "      background-color: #3B4455;\n",
              "      fill: #D2E3FC;\n",
              "    }\n",
              "\n",
              "    [theme=dark] .colab-df-convert:hover {\n",
              "      background-color: #434B5C;\n",
              "      box-shadow: 0px 1px 3px 1px rgba(0, 0, 0, 0.15);\n",
              "      filter: drop-shadow(0px 1px 2px rgba(0, 0, 0, 0.3));\n",
              "      fill: #FFFFFF;\n",
              "    }\n",
              "  </style>\n",
              "\n",
              "      <script>\n",
              "        const buttonEl =\n",
              "          document.querySelector('#df-c2e92a3d-c086-40ad-a499-8a178d226149 button.colab-df-convert');\n",
              "        buttonEl.style.display =\n",
              "          google.colab.kernel.accessAllowed ? 'block' : 'none';\n",
              "\n",
              "        async function convertToInteractive(key) {\n",
              "          const element = document.querySelector('#df-c2e92a3d-c086-40ad-a499-8a178d226149');\n",
              "          const dataTable =\n",
              "            await google.colab.kernel.invokeFunction('convertToInteractive',\n",
              "                                                     [key], {});\n",
              "          if (!dataTable) return;\n",
              "\n",
              "          const docLinkHtml = 'Like what you see? Visit the ' +\n",
              "            '<a target=\"_blank\" href=https://colab.research.google.com/notebooks/data_table.ipynb>data table notebook</a>'\n",
              "            + ' to learn more about interactive tables.';\n",
              "          element.innerHTML = '';\n",
              "          dataTable['output_type'] = 'display_data';\n",
              "          await google.colab.output.renderOutput(dataTable, element);\n",
              "          const docLink = document.createElement('div');\n",
              "          docLink.innerHTML = docLinkHtml;\n",
              "          element.appendChild(docLink);\n",
              "        }\n",
              "      </script>\n",
              "    </div>\n",
              "  </div>\n",
              "  "
            ],
            "text/plain": [
              "       xmin      ymin      xmax         ymax  confidence  class    name\n",
              "0  32.18457  9.024048  939.7052  1235.446655    0.368445      0  person"
            ]
          },
          "execution_count": 38,
          "metadata": {},
          "output_type": "execute_result"
        }
      ],
      "source": [
        "coordinates = yolo_results.xyxy[0][:, :4]\n",
        "yolo_results.pandas().xyxy[0] "
      ]
    },
    {
      "cell_type": "markdown",
      "metadata": {
        "id": "qcdm107JunK9"
      },
      "source": [
        "## Resume\n",
        "➕Плюсы: самая быстрая, точная и легко запускающаяся модель; широкий выбор параметров настройки вывода\n",
        "\n",
        "➖Минусы: низкая уверенность модели в прогнозах \n",
        "\n",
        "## Сравнение версий\n",
        "### ✅yolov5s \n",
        "Уверенность: 0,37\n",
        "\n",
        "Скорость: 7.2ms pre-process, 341.7ms inference, 1.4ms NMS per image, **total: 476 ms** \n",
        "### ✅yolov5m\n",
        "Уверенность: 0,68\n",
        "\n",
        "Скорость: 31.0ms pre-process, 897.9ms inference, 1.7ms NMS per image, **total: 1 s**\n",
        "### ✅yolov5l\n",
        "Уверенность: 0,69\n",
        "\n",
        "Скорость: 32.1ms pre-process, 1793.0ms inference, 1.3ms NMS per image, **total:1.88 s**\n",
        "\n",
        "🏅Обнаружила второго человека по половинке лица с вероятность 0,43"
      ]
    },
    {
      "cell_type": "markdown",
      "metadata": {
        "id": "3py6h8tqgVdc"
      },
      "source": [
        "#FasterRCNN"
      ]
    },
    {
      "cell_type": "code",
      "execution_count": 49,
      "metadata": {
        "id": "5bTvD6Ceoee2"
      },
      "outputs": [],
      "source": [
        "from torchvision.models.detection import fasterrcnn_mobilenet_v3_large_320_fpn, FasterRCNN_MobileNet_V3_Large_320_FPN_Weights\n",
        "import urllib\n",
        "from torchvision import transforms\n",
        "from torchvision.io.image import read_image\n",
        "from torchvision.utils import draw_bounding_boxes\n",
        "from torchvision.transforms.functional import to_pil_image\n",
        "from torchvision.transforms.functional import pil_to_tensor"
      ]
    },
    {
      "cell_type": "code",
      "execution_count": 50,
      "metadata": {
        "colab": {
          "base_uri": "https://localhost:8080/"
        },
        "id": "JKwVZZFdZalB",
        "outputId": "367ab48d-63c4-47fc-8970-e6ede1b932ce"
      },
      "outputs": [
        {
          "name": "stderr",
          "output_type": "stream",
          "text": [
            "Downloading: \"https://download.pytorch.org/models/fasterrcnn_mobilenet_v3_large_320_fpn-907ea3f9.pth\" to /root/.cache/torch/hub/checkpoints/fasterrcnn_mobilenet_v3_large_320_fpn-907ea3f9.pth\n"
          ]
        }
      ],
      "source": [
        "weights = FasterRCNN_MobileNet_V3_Large_320_FPN_Weights.DEFAULT\n",
        "resnet_model = fasterrcnn_mobilenet_v3_large_320_fpn(weights=weights, pretrained=True, progress=False)\n",
        "resnet_model.eval()\n",
        "preprocess = weights.transforms()"
      ]
    },
    {
      "cell_type": "code",
      "execution_count": 51,
      "metadata": {
        "id": "qfN-mtP7_gDW"
      },
      "outputs": [],
      "source": [
        "img_path = '/content/we.jpg'\n",
        "img = read_image(img_path)\n",
        "\n",
        "batch = [preprocess(img)]"
      ]
    },
    {
      "cell_type": "code",
      "execution_count": 52,
      "metadata": {
        "colab": {
          "base_uri": "https://localhost:8080/"
        },
        "id": "R5ibAada_sho",
        "outputId": "a10517aa-f9bf-48b4-c238-df77f26434cf"
      },
      "outputs": [
        {
          "data": {
            "text/plain": [
              "['__background__', 'person']"
            ]
          },
          "execution_count": 52,
          "metadata": {},
          "output_type": "execute_result"
        }
      ],
      "source": [
        "weights.meta[\"categories\"] = weights.meta[\"categories\"][0:2]\n",
        "weights.meta[\"categories\"]"
      ]
    },
    {
      "cell_type": "code",
      "execution_count": 53,
      "metadata": {
        "colab": {
          "base_uri": "https://localhost:8080/"
        },
        "id": "tQCRjJIvShpu",
        "outputId": "420ad750-ec0e-41fd-c5e6-f17951f58c7f"
      },
      "outputs": [
        {
          "data": {
            "text/plain": [
              "{'boxes': tensor([[  10.95274,   24.38524,  806.90668, 1238.53479]], grad_fn=<IndexBackward0>),\n",
              " 'labels': tensor([1]),\n",
              " 'scores': tensor([0.99129], grad_fn=<IndexBackward0>)}"
            ]
          },
          "execution_count": 53,
          "metadata": {},
          "output_type": "execute_result"
        }
      ],
      "source": [
        "prediction"
      ]
    },
    {
      "cell_type": "code",
      "execution_count": 54,
      "metadata": {
        "colab": {
          "base_uri": "https://localhost:8080/"
        },
        "id": "GakORe3FAqi_",
        "outputId": "0f110c38-32a5-4bbb-d667-b734b25d0183"
      },
      "outputs": [
        {
          "name": "stderr",
          "output_type": "stream",
          "text": [
            "/usr/local/lib/python3.7/dist-packages/torchvision/utils.py:237: UserWarning: Argument 'font_size' will be ignored since 'font' is not set.\n",
            "  warnings.warn(\"Argument 'font_size' will be ignored since 'font' is not set.\")\n"
          ]
        },
        {
          "name": "stdout",
          "output_type": "stream",
          "text": [
            "CPU times: user 738 ms, sys: 13.5 ms, total: 751 ms\n",
            "Wall time: 758 ms\n"
          ]
        }
      ],
      "source": [
        "%%time\n",
        "prediction = resnet_model(batch)[0]\n",
        "prediction[\"boxes\"] = prediction[\"boxes\"][prediction[\"scores\"] > 0.96]\n",
        "prediction[\"labels\"] = prediction[\"labels\"][prediction[\"scores\"] > 0.96]\n",
        "prediction[\"scores\"] = prediction[\"scores\"][prediction[\"scores\"] > 0.96]\n",
        "\n",
        "labels = [weights.meta[\"categories\"][i] for i in prediction[\"labels\"]]\n",
        "box = draw_bounding_boxes(img, boxes=prediction[\"boxes\"],\n",
        "                          labels=labels,\n",
        "                          colors=\"cyan\",\n",
        "                          width=2, \n",
        "                          font_size = 30)\n",
        "\n",
        "# to_pil_image(box)\n",
        "res = Image.fromarray(box.permute(1, 2, 0).contiguous().numpy())\n",
        "res.save(\"bbox_faster.png\")"
      ]
    },
    {
      "cell_type": "markdown",
      "metadata": {
        "id": "-dUEmCYm2pX3"
      },
      "source": [
        "## Resume:\n",
        "➕Плюсы: высокая точность и уверенность модели в прогнозах (>0,96); FasterRCNN_ResNet50_FPN_V2 обнаруживает с высокой вероятностью человека лишь по части лица в отличие от yolo\n",
        "\n",
        "➖Минусы: долгая обработка; отсутствие настраиваемых параметров помимо классов\n",
        "\n",
        "## Сравнение версий\n",
        "### ✅FasterRCNN_ResNet50_V2\n",
        "🏅Распознала второе лицо\n",
        "\n",
        "Уверенность: 0.97+\n",
        "\n",
        "Скорость: **total 15.6 s**\n",
        "### ✅FasterRCNN_MobileNet_V3_Large\n",
        "Уверенность: 0.99, но не распознал второе лицо\n",
        "\n",
        "Скорость: **total: 1.81 s**\n",
        "### ✅FasterRCNN_MobileNet_V3_Large_320\n",
        "Уверенность: 0.99, но распознал два лица за одно (bbox шире)\n",
        "\n",
        "Скорость: **total: 751 ms**"
      ]
    },
    {
      "cell_type": "markdown",
      "metadata": {
        "id": "qsoJShW_PzJt"
      },
      "source": [
        "# RetinaNet"
      ]
    },
    {
      "cell_type": "code",
      "execution_count": 55,
      "metadata": {
        "id": "EzIas3k1PpHW"
      },
      "outputs": [],
      "source": [
        "from torchvision.models.detection import retinanet_resnet50_fpn_v2, RetinaNet_ResNet50_FPN_V2_Weights\n",
        "from PIL import Image\n",
        "from torchvision.transforms.functional import pil_to_tensor\n",
        "from torchvision.io.image import read_image\n",
        "from torchvision.transforms.functional import to_pil_image\n",
        "import matplotlib.pyplot as plt"
      ]
    },
    {
      "cell_type": "code",
      "execution_count": 56,
      "metadata": {
        "colab": {
          "base_uri": "https://localhost:8080/",
          "height": 86,
          "referenced_widgets": [
            "46c009d5006f4f35925c03c24cd198a2",
            "01e0ed729e2f4fae8bfeac0c23bc4655",
            "e123faec2ae1484297fd8a0652958143",
            "eb52e9e8fe3b409ca469b6b918ca41f9",
            "bbaa5a7e37634c3cb9c17b2812013b5c",
            "953398b0d9a34179b8e8771d8004ceac",
            "eb20d3767e194e8695dd248889ed00e5",
            "13efe526f22b4d0993e665f7958e0718",
            "a8cc76b0196f4f05b8f6e39c6d6c1b59",
            "4b3f9c0bc4b34032b5372d730f01eec4",
            "55e26bd09ca84ec384cb06772896bf99"
          ]
        },
        "id": "mJqXUT4aPfCr",
        "outputId": "55dab7fd-2949-4f3d-d942-d9e2f9a9bc97"
      },
      "outputs": [
        {
          "name": "stderr",
          "output_type": "stream",
          "text": [
            "Downloading: \"https://download.pytorch.org/models/retinanet_resnet50_fpn_v2_coco-5905b1c5.pth\" to /root/.cache/torch/hub/checkpoints/retinanet_resnet50_fpn_v2_coco-5905b1c5.pth\n"
          ]
        },
        {
          "data": {
            "application/vnd.jupyter.widget-view+json": {
              "model_id": "46c009d5006f4f35925c03c24cd198a2",
              "version_major": 2,
              "version_minor": 0
            },
            "text/plain": [
              "  0%|          | 0.00/146M [00:00<?, ?B/s]"
            ]
          },
          "metadata": {},
          "output_type": "display_data"
        }
      ],
      "source": [
        "weights = RetinaNet_ResNet50_FPN_V2_Weights.DEFAULT\n",
        "model = retinanet_resnet50_fpn_v2(weights=weights, score_thresh=0.35)\n",
        "model.eval()\n",
        "preprocess = weights.transforms()"
      ]
    },
    {
      "cell_type": "code",
      "execution_count": 57,
      "metadata": {
        "id": "kNWKzn_hRO6s"
      },
      "outputs": [],
      "source": [
        "img_path = '/content/we.jpg'\n",
        "img = read_image(img_path)\n",
        "\n",
        "batch = [preprocess(img)]"
      ]
    },
    {
      "cell_type": "code",
      "execution_count": 58,
      "metadata": {
        "colab": {
          "base_uri": "https://localhost:8080/"
        },
        "id": "mxaR2VH--Dvf",
        "outputId": "73848ea0-7635-4dc6-c0ec-4397fa01fd57"
      },
      "outputs": [
        {
          "data": {
            "text/plain": [
              "['__background__', 'person']"
            ]
          },
          "execution_count": 58,
          "metadata": {},
          "output_type": "execute_result"
        }
      ],
      "source": [
        "weights.meta[\"categories\"] = weights.meta[\"categories\"][0:2]\n",
        "weights.meta[\"categories\"]"
      ]
    },
    {
      "cell_type": "code",
      "execution_count": 60,
      "metadata": {
        "colab": {
          "base_uri": "https://localhost:8080/"
        },
        "id": "fN4fwIJJUy48",
        "outputId": "7c8ed0f9-3ad8-42d9-9f5f-d6e8a88b2988"
      },
      "outputs": [
        {
          "data": {
            "text/plain": [
              "{'boxes': tensor([[   0.00000,    0.00000,  947.76874, 1255.99988]], grad_fn=<IndexBackward0>),\n",
              " 'scores': tensor([0.94286], grad_fn=<IndexBackward0>),\n",
              " 'labels': tensor([1])}"
            ]
          },
          "execution_count": 60,
          "metadata": {},
          "output_type": "execute_result"
        }
      ],
      "source": [
        "prediction"
      ]
    },
    {
      "cell_type": "code",
      "execution_count": 59,
      "metadata": {
        "colab": {
          "base_uri": "https://localhost:8080/"
        },
        "id": "htaPrrrTAk2-",
        "outputId": "ef82558b-7eab-4715-d6a9-ec1312272e9e"
      },
      "outputs": [
        {
          "name": "stderr",
          "output_type": "stream",
          "text": [
            "/usr/local/lib/python3.7/dist-packages/torchvision/utils.py:237: UserWarning: Argument 'font_size' will be ignored since 'font' is not set.\n",
            "  warnings.warn(\"Argument 'font_size' will be ignored since 'font' is not set.\")\n"
          ]
        },
        {
          "name": "stdout",
          "output_type": "stream",
          "text": [
            "CPU times: user 8.37 s, sys: 1 s, total: 9.38 s\n",
            "Wall time: 9.42 s\n"
          ]
        }
      ],
      "source": [
        "%%time\n",
        "prediction = model(batch)[0]\n",
        "prediction[\"boxes\"] = prediction[\"boxes\"][prediction[\"scores\"] > 0.9]\n",
        "prediction[\"labels\"] = prediction[\"labels\"][prediction[\"scores\"] > 0.9]\n",
        "prediction[\"scores\"] = prediction[\"scores\"][prediction[\"scores\"] > 0.9]\n",
        "\n",
        "labels = [weights.meta[\"categories\"][i] for i in prediction[\"labels\"]]\n",
        "box = draw_bounding_boxes(img, boxes=prediction[\"boxes\"],\n",
        "                          labels=labels,\n",
        "                          colors=\"cyan\",\n",
        "                          width=2, \n",
        "                          font_size = 30)\n",
        "\n",
        "# to_pil_image(box)\n",
        "res = Image.fromarray(box.permute(1, 2, 0).contiguous().numpy())\n",
        "res.save(\"bbox_retina.png\")"
      ]
    },
    {
      "cell_type": "markdown",
      "metadata": {
        "id": "Ffcbv9xY-dfb"
      },
      "source": [
        "## Resume:\n",
        "➕Плюсы: высокая уверенность модели в проигнозируемом объекте, но ниже, чем у FasterRCNN\n",
        "\n",
        "➖Минусы: не обнаружен второй объект; затраченное время не соответствует качеству\n",
        "\n",
        "## Сравнение версий\n",
        "### ✅RetinaNet_ResNet50_FPN_V2\n",
        "Уверенность: 0.94\n",
        "\n",
        "Скорость: **total: 9.38 s**"
      ]
    }
  ],
  "metadata": {
    "colab": {
      "collapsed_sections": [
        "3py6h8tqgVdc",
        "qsoJShW_PzJt"
      ],
      "provenance": []
    },
    "kernelspec": {
      "display_name": "Python 3.10.5 64-bit",
      "language": "python",
      "name": "python3"
    },
    "language_info": {
      "codemirror_mode": {
        "name": "ipython",
        "version": 3
      },
      "file_extension": ".py",
      "mimetype": "text/x-python",
      "name": "python",
      "nbconvert_exporter": "python",
      "pygments_lexer": "ipython3",
      "version": "3.10.5"
    },
    "vscode": {
      "interpreter": {
        "hash": "21a3d01e8368cfa19a102c134c0c062a32736263c5d0133ceaa97ac29f712d49"
      }
    },
    "widgets": {
      "application/vnd.jupyter.widget-state+json": {
        "01e0ed729e2f4fae8bfeac0c23bc4655": {
          "model_module": "@jupyter-widgets/controls",
          "model_module_version": "1.5.0",
          "model_name": "HTMLModel",
          "state": {
            "_dom_classes": [],
            "_model_module": "@jupyter-widgets/controls",
            "_model_module_version": "1.5.0",
            "_model_name": "HTMLModel",
            "_view_count": null,
            "_view_module": "@jupyter-widgets/controls",
            "_view_module_version": "1.5.0",
            "_view_name": "HTMLView",
            "description": "",
            "description_tooltip": null,
            "layout": "IPY_MODEL_953398b0d9a34179b8e8771d8004ceac",
            "placeholder": "​",
            "style": "IPY_MODEL_eb20d3767e194e8695dd248889ed00e5",
            "value": "100%"
          }
        },
        "13efe526f22b4d0993e665f7958e0718": {
          "model_module": "@jupyter-widgets/base",
          "model_module_version": "1.2.0",
          "model_name": "LayoutModel",
          "state": {
            "_model_module": "@jupyter-widgets/base",
            "_model_module_version": "1.2.0",
            "_model_name": "LayoutModel",
            "_view_count": null,
            "_view_module": "@jupyter-widgets/base",
            "_view_module_version": "1.2.0",
            "_view_name": "LayoutView",
            "align_content": null,
            "align_items": null,
            "align_self": null,
            "border": null,
            "bottom": null,
            "display": null,
            "flex": null,
            "flex_flow": null,
            "grid_area": null,
            "grid_auto_columns": null,
            "grid_auto_flow": null,
            "grid_auto_rows": null,
            "grid_column": null,
            "grid_gap": null,
            "grid_row": null,
            "grid_template_areas": null,
            "grid_template_columns": null,
            "grid_template_rows": null,
            "height": null,
            "justify_content": null,
            "justify_items": null,
            "left": null,
            "margin": null,
            "max_height": null,
            "max_width": null,
            "min_height": null,
            "min_width": null,
            "object_fit": null,
            "object_position": null,
            "order": null,
            "overflow": null,
            "overflow_x": null,
            "overflow_y": null,
            "padding": null,
            "right": null,
            "top": null,
            "visibility": null,
            "width": null
          }
        },
        "2d3ef50ffd0e49ae8c97fc466d6143b5": {
          "model_module": "@jupyter-widgets/controls",
          "model_module_version": "1.5.0",
          "model_name": "HTMLModel",
          "state": {
            "_dom_classes": [],
            "_model_module": "@jupyter-widgets/controls",
            "_model_module_version": "1.5.0",
            "_model_name": "HTMLModel",
            "_view_count": null,
            "_view_module": "@jupyter-widgets/controls",
            "_view_module_version": "1.5.0",
            "_view_name": "HTMLView",
            "description": "",
            "description_tooltip": null,
            "layout": "IPY_MODEL_a6fbacbe9d704bacb0bb16d90f468077",
            "placeholder": "​",
            "style": "IPY_MODEL_4605f327c7ed418e9bd944b80e799fa9",
            "value": "100%"
          }
        },
        "34dbb9898928472088b838ba710e5ecd": {
          "model_module": "@jupyter-widgets/controls",
          "model_module_version": "1.5.0",
          "model_name": "DescriptionStyleModel",
          "state": {
            "_model_module": "@jupyter-widgets/controls",
            "_model_module_version": "1.5.0",
            "_model_name": "DescriptionStyleModel",
            "_view_count": null,
            "_view_module": "@jupyter-widgets/base",
            "_view_module_version": "1.2.0",
            "_view_name": "StyleView",
            "description_width": ""
          }
        },
        "3c5c56561d92485bb7d17be1d8fc4cf9": {
          "model_module": "@jupyter-widgets/base",
          "model_module_version": "1.2.0",
          "model_name": "LayoutModel",
          "state": {
            "_model_module": "@jupyter-widgets/base",
            "_model_module_version": "1.2.0",
            "_model_name": "LayoutModel",
            "_view_count": null,
            "_view_module": "@jupyter-widgets/base",
            "_view_module_version": "1.2.0",
            "_view_name": "LayoutView",
            "align_content": null,
            "align_items": null,
            "align_self": null,
            "border": null,
            "bottom": null,
            "display": null,
            "flex": null,
            "flex_flow": null,
            "grid_area": null,
            "grid_auto_columns": null,
            "grid_auto_flow": null,
            "grid_auto_rows": null,
            "grid_column": null,
            "grid_gap": null,
            "grid_row": null,
            "grid_template_areas": null,
            "grid_template_columns": null,
            "grid_template_rows": null,
            "height": null,
            "justify_content": null,
            "justify_items": null,
            "left": null,
            "margin": null,
            "max_height": null,
            "max_width": null,
            "min_height": null,
            "min_width": null,
            "object_fit": null,
            "object_position": null,
            "order": null,
            "overflow": null,
            "overflow_x": null,
            "overflow_y": null,
            "padding": null,
            "right": null,
            "top": null,
            "visibility": null,
            "width": null
          }
        },
        "426ed793a3fc4602a672ea620e624ef5": {
          "model_module": "@jupyter-widgets/controls",
          "model_module_version": "1.5.0",
          "model_name": "FloatProgressModel",
          "state": {
            "_dom_classes": [],
            "_model_module": "@jupyter-widgets/controls",
            "_model_module_version": "1.5.0",
            "_model_name": "FloatProgressModel",
            "_view_count": null,
            "_view_module": "@jupyter-widgets/controls",
            "_view_module_version": "1.5.0",
            "_view_name": "ProgressView",
            "bar_style": "success",
            "description": "",
            "description_tooltip": null,
            "layout": "IPY_MODEL_8a4429f61e834b7cbad81df884c546a9",
            "max": 14808437,
            "min": 0,
            "orientation": "horizontal",
            "style": "IPY_MODEL_dd0a850ff302457ca96375a55cf4dd0b",
            "value": 14808437
          }
        },
        "4605f327c7ed418e9bd944b80e799fa9": {
          "model_module": "@jupyter-widgets/controls",
          "model_module_version": "1.5.0",
          "model_name": "DescriptionStyleModel",
          "state": {
            "_model_module": "@jupyter-widgets/controls",
            "_model_module_version": "1.5.0",
            "_model_name": "DescriptionStyleModel",
            "_view_count": null,
            "_view_module": "@jupyter-widgets/base",
            "_view_module_version": "1.2.0",
            "_view_name": "StyleView",
            "description_width": ""
          }
        },
        "46c009d5006f4f35925c03c24cd198a2": {
          "model_module": "@jupyter-widgets/controls",
          "model_module_version": "1.5.0",
          "model_name": "HBoxModel",
          "state": {
            "_dom_classes": [],
            "_model_module": "@jupyter-widgets/controls",
            "_model_module_version": "1.5.0",
            "_model_name": "HBoxModel",
            "_view_count": null,
            "_view_module": "@jupyter-widgets/controls",
            "_view_module_version": "1.5.0",
            "_view_name": "HBoxView",
            "box_style": "",
            "children": [
              "IPY_MODEL_01e0ed729e2f4fae8bfeac0c23bc4655",
              "IPY_MODEL_e123faec2ae1484297fd8a0652958143",
              "IPY_MODEL_eb52e9e8fe3b409ca469b6b918ca41f9"
            ],
            "layout": "IPY_MODEL_bbaa5a7e37634c3cb9c17b2812013b5c"
          }
        },
        "4b3f9c0bc4b34032b5372d730f01eec4": {
          "model_module": "@jupyter-widgets/base",
          "model_module_version": "1.2.0",
          "model_name": "LayoutModel",
          "state": {
            "_model_module": "@jupyter-widgets/base",
            "_model_module_version": "1.2.0",
            "_model_name": "LayoutModel",
            "_view_count": null,
            "_view_module": "@jupyter-widgets/base",
            "_view_module_version": "1.2.0",
            "_view_name": "LayoutView",
            "align_content": null,
            "align_items": null,
            "align_self": null,
            "border": null,
            "bottom": null,
            "display": null,
            "flex": null,
            "flex_flow": null,
            "grid_area": null,
            "grid_auto_columns": null,
            "grid_auto_flow": null,
            "grid_auto_rows": null,
            "grid_column": null,
            "grid_gap": null,
            "grid_row": null,
            "grid_template_areas": null,
            "grid_template_columns": null,
            "grid_template_rows": null,
            "height": null,
            "justify_content": null,
            "justify_items": null,
            "left": null,
            "margin": null,
            "max_height": null,
            "max_width": null,
            "min_height": null,
            "min_width": null,
            "object_fit": null,
            "object_position": null,
            "order": null,
            "overflow": null,
            "overflow_x": null,
            "overflow_y": null,
            "padding": null,
            "right": null,
            "top": null,
            "visibility": null,
            "width": null
          }
        },
        "55e26bd09ca84ec384cb06772896bf99": {
          "model_module": "@jupyter-widgets/controls",
          "model_module_version": "1.5.0",
          "model_name": "DescriptionStyleModel",
          "state": {
            "_model_module": "@jupyter-widgets/controls",
            "_model_module_version": "1.5.0",
            "_model_name": "DescriptionStyleModel",
            "_view_count": null,
            "_view_module": "@jupyter-widgets/base",
            "_view_module_version": "1.2.0",
            "_view_name": "StyleView",
            "description_width": ""
          }
        },
        "7f72d3fcc97a4c29986e141041aa9e8e": {
          "model_module": "@jupyter-widgets/controls",
          "model_module_version": "1.5.0",
          "model_name": "HBoxModel",
          "state": {
            "_dom_classes": [],
            "_model_module": "@jupyter-widgets/controls",
            "_model_module_version": "1.5.0",
            "_model_name": "HBoxModel",
            "_view_count": null,
            "_view_module": "@jupyter-widgets/controls",
            "_view_module_version": "1.5.0",
            "_view_name": "HBoxView",
            "box_style": "",
            "children": [
              "IPY_MODEL_2d3ef50ffd0e49ae8c97fc466d6143b5",
              "IPY_MODEL_426ed793a3fc4602a672ea620e624ef5",
              "IPY_MODEL_fc81eed1bb824134a9ff234508744e76"
            ],
            "layout": "IPY_MODEL_f90bdedc50a64b32a16933b7c11cd06b"
          }
        },
        "8a4429f61e834b7cbad81df884c546a9": {
          "model_module": "@jupyter-widgets/base",
          "model_module_version": "1.2.0",
          "model_name": "LayoutModel",
          "state": {
            "_model_module": "@jupyter-widgets/base",
            "_model_module_version": "1.2.0",
            "_model_name": "LayoutModel",
            "_view_count": null,
            "_view_module": "@jupyter-widgets/base",
            "_view_module_version": "1.2.0",
            "_view_name": "LayoutView",
            "align_content": null,
            "align_items": null,
            "align_self": null,
            "border": null,
            "bottom": null,
            "display": null,
            "flex": null,
            "flex_flow": null,
            "grid_area": null,
            "grid_auto_columns": null,
            "grid_auto_flow": null,
            "grid_auto_rows": null,
            "grid_column": null,
            "grid_gap": null,
            "grid_row": null,
            "grid_template_areas": null,
            "grid_template_columns": null,
            "grid_template_rows": null,
            "height": null,
            "justify_content": null,
            "justify_items": null,
            "left": null,
            "margin": null,
            "max_height": null,
            "max_width": null,
            "min_height": null,
            "min_width": null,
            "object_fit": null,
            "object_position": null,
            "order": null,
            "overflow": null,
            "overflow_x": null,
            "overflow_y": null,
            "padding": null,
            "right": null,
            "top": null,
            "visibility": null,
            "width": null
          }
        },
        "953398b0d9a34179b8e8771d8004ceac": {
          "model_module": "@jupyter-widgets/base",
          "model_module_version": "1.2.0",
          "model_name": "LayoutModel",
          "state": {
            "_model_module": "@jupyter-widgets/base",
            "_model_module_version": "1.2.0",
            "_model_name": "LayoutModel",
            "_view_count": null,
            "_view_module": "@jupyter-widgets/base",
            "_view_module_version": "1.2.0",
            "_view_name": "LayoutView",
            "align_content": null,
            "align_items": null,
            "align_self": null,
            "border": null,
            "bottom": null,
            "display": null,
            "flex": null,
            "flex_flow": null,
            "grid_area": null,
            "grid_auto_columns": null,
            "grid_auto_flow": null,
            "grid_auto_rows": null,
            "grid_column": null,
            "grid_gap": null,
            "grid_row": null,
            "grid_template_areas": null,
            "grid_template_columns": null,
            "grid_template_rows": null,
            "height": null,
            "justify_content": null,
            "justify_items": null,
            "left": null,
            "margin": null,
            "max_height": null,
            "max_width": null,
            "min_height": null,
            "min_width": null,
            "object_fit": null,
            "object_position": null,
            "order": null,
            "overflow": null,
            "overflow_x": null,
            "overflow_y": null,
            "padding": null,
            "right": null,
            "top": null,
            "visibility": null,
            "width": null
          }
        },
        "a6fbacbe9d704bacb0bb16d90f468077": {
          "model_module": "@jupyter-widgets/base",
          "model_module_version": "1.2.0",
          "model_name": "LayoutModel",
          "state": {
            "_model_module": "@jupyter-widgets/base",
            "_model_module_version": "1.2.0",
            "_model_name": "LayoutModel",
            "_view_count": null,
            "_view_module": "@jupyter-widgets/base",
            "_view_module_version": "1.2.0",
            "_view_name": "LayoutView",
            "align_content": null,
            "align_items": null,
            "align_self": null,
            "border": null,
            "bottom": null,
            "display": null,
            "flex": null,
            "flex_flow": null,
            "grid_area": null,
            "grid_auto_columns": null,
            "grid_auto_flow": null,
            "grid_auto_rows": null,
            "grid_column": null,
            "grid_gap": null,
            "grid_row": null,
            "grid_template_areas": null,
            "grid_template_columns": null,
            "grid_template_rows": null,
            "height": null,
            "justify_content": null,
            "justify_items": null,
            "left": null,
            "margin": null,
            "max_height": null,
            "max_width": null,
            "min_height": null,
            "min_width": null,
            "object_fit": null,
            "object_position": null,
            "order": null,
            "overflow": null,
            "overflow_x": null,
            "overflow_y": null,
            "padding": null,
            "right": null,
            "top": null,
            "visibility": null,
            "width": null
          }
        },
        "a8cc76b0196f4f05b8f6e39c6d6c1b59": {
          "model_module": "@jupyter-widgets/controls",
          "model_module_version": "1.5.0",
          "model_name": "ProgressStyleModel",
          "state": {
            "_model_module": "@jupyter-widgets/controls",
            "_model_module_version": "1.5.0",
            "_model_name": "ProgressStyleModel",
            "_view_count": null,
            "_view_module": "@jupyter-widgets/base",
            "_view_module_version": "1.2.0",
            "_view_name": "StyleView",
            "bar_color": null,
            "description_width": ""
          }
        },
        "bbaa5a7e37634c3cb9c17b2812013b5c": {
          "model_module": "@jupyter-widgets/base",
          "model_module_version": "1.2.0",
          "model_name": "LayoutModel",
          "state": {
            "_model_module": "@jupyter-widgets/base",
            "_model_module_version": "1.2.0",
            "_model_name": "LayoutModel",
            "_view_count": null,
            "_view_module": "@jupyter-widgets/base",
            "_view_module_version": "1.2.0",
            "_view_name": "LayoutView",
            "align_content": null,
            "align_items": null,
            "align_self": null,
            "border": null,
            "bottom": null,
            "display": null,
            "flex": null,
            "flex_flow": null,
            "grid_area": null,
            "grid_auto_columns": null,
            "grid_auto_flow": null,
            "grid_auto_rows": null,
            "grid_column": null,
            "grid_gap": null,
            "grid_row": null,
            "grid_template_areas": null,
            "grid_template_columns": null,
            "grid_template_rows": null,
            "height": null,
            "justify_content": null,
            "justify_items": null,
            "left": null,
            "margin": null,
            "max_height": null,
            "max_width": null,
            "min_height": null,
            "min_width": null,
            "object_fit": null,
            "object_position": null,
            "order": null,
            "overflow": null,
            "overflow_x": null,
            "overflow_y": null,
            "padding": null,
            "right": null,
            "top": null,
            "visibility": null,
            "width": null
          }
        },
        "dd0a850ff302457ca96375a55cf4dd0b": {
          "model_module": "@jupyter-widgets/controls",
          "model_module_version": "1.5.0",
          "model_name": "ProgressStyleModel",
          "state": {
            "_model_module": "@jupyter-widgets/controls",
            "_model_module_version": "1.5.0",
            "_model_name": "ProgressStyleModel",
            "_view_count": null,
            "_view_module": "@jupyter-widgets/base",
            "_view_module_version": "1.2.0",
            "_view_name": "StyleView",
            "bar_color": null,
            "description_width": ""
          }
        },
        "e123faec2ae1484297fd8a0652958143": {
          "model_module": "@jupyter-widgets/controls",
          "model_module_version": "1.5.0",
          "model_name": "FloatProgressModel",
          "state": {
            "_dom_classes": [],
            "_model_module": "@jupyter-widgets/controls",
            "_model_module_version": "1.5.0",
            "_model_name": "FloatProgressModel",
            "_view_count": null,
            "_view_module": "@jupyter-widgets/controls",
            "_view_module_version": "1.5.0",
            "_view_name": "ProgressView",
            "bar_style": "success",
            "description": "",
            "description_tooltip": null,
            "layout": "IPY_MODEL_13efe526f22b4d0993e665f7958e0718",
            "max": 153130989,
            "min": 0,
            "orientation": "horizontal",
            "style": "IPY_MODEL_a8cc76b0196f4f05b8f6e39c6d6c1b59",
            "value": 153130989
          }
        },
        "eb20d3767e194e8695dd248889ed00e5": {
          "model_module": "@jupyter-widgets/controls",
          "model_module_version": "1.5.0",
          "model_name": "DescriptionStyleModel",
          "state": {
            "_model_module": "@jupyter-widgets/controls",
            "_model_module_version": "1.5.0",
            "_model_name": "DescriptionStyleModel",
            "_view_count": null,
            "_view_module": "@jupyter-widgets/base",
            "_view_module_version": "1.2.0",
            "_view_name": "StyleView",
            "description_width": ""
          }
        },
        "eb52e9e8fe3b409ca469b6b918ca41f9": {
          "model_module": "@jupyter-widgets/controls",
          "model_module_version": "1.5.0",
          "model_name": "HTMLModel",
          "state": {
            "_dom_classes": [],
            "_model_module": "@jupyter-widgets/controls",
            "_model_module_version": "1.5.0",
            "_model_name": "HTMLModel",
            "_view_count": null,
            "_view_module": "@jupyter-widgets/controls",
            "_view_module_version": "1.5.0",
            "_view_name": "HTMLView",
            "description": "",
            "description_tooltip": null,
            "layout": "IPY_MODEL_4b3f9c0bc4b34032b5372d730f01eec4",
            "placeholder": "​",
            "style": "IPY_MODEL_55e26bd09ca84ec384cb06772896bf99",
            "value": " 146M/146M [00:02&lt;00:00, 78.5MB/s]"
          }
        },
        "f90bdedc50a64b32a16933b7c11cd06b": {
          "model_module": "@jupyter-widgets/base",
          "model_module_version": "1.2.0",
          "model_name": "LayoutModel",
          "state": {
            "_model_module": "@jupyter-widgets/base",
            "_model_module_version": "1.2.0",
            "_model_name": "LayoutModel",
            "_view_count": null,
            "_view_module": "@jupyter-widgets/base",
            "_view_module_version": "1.2.0",
            "_view_name": "LayoutView",
            "align_content": null,
            "align_items": null,
            "align_self": null,
            "border": null,
            "bottom": null,
            "display": null,
            "flex": null,
            "flex_flow": null,
            "grid_area": null,
            "grid_auto_columns": null,
            "grid_auto_flow": null,
            "grid_auto_rows": null,
            "grid_column": null,
            "grid_gap": null,
            "grid_row": null,
            "grid_template_areas": null,
            "grid_template_columns": null,
            "grid_template_rows": null,
            "height": null,
            "justify_content": null,
            "justify_items": null,
            "left": null,
            "margin": null,
            "max_height": null,
            "max_width": null,
            "min_height": null,
            "min_width": null,
            "object_fit": null,
            "object_position": null,
            "order": null,
            "overflow": null,
            "overflow_x": null,
            "overflow_y": null,
            "padding": null,
            "right": null,
            "top": null,
            "visibility": null,
            "width": null
          }
        },
        "fc81eed1bb824134a9ff234508744e76": {
          "model_module": "@jupyter-widgets/controls",
          "model_module_version": "1.5.0",
          "model_name": "HTMLModel",
          "state": {
            "_dom_classes": [],
            "_model_module": "@jupyter-widgets/controls",
            "_model_module_version": "1.5.0",
            "_model_name": "HTMLModel",
            "_view_count": null,
            "_view_module": "@jupyter-widgets/controls",
            "_view_module_version": "1.5.0",
            "_view_name": "HTMLView",
            "description": "",
            "description_tooltip": null,
            "layout": "IPY_MODEL_3c5c56561d92485bb7d17be1d8fc4cf9",
            "placeholder": "​",
            "style": "IPY_MODEL_34dbb9898928472088b838ba710e5ecd",
            "value": " 14.1M/14.1M [00:00&lt;00:00, 23.6MB/s]"
          }
        }
      }
    }
  },
  "nbformat": 4,
  "nbformat_minor": 0
}
