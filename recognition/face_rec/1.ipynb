{
 "cells": [
  {
   "cell_type": "code",
   "execution_count": null,
   "metadata": {},
   "outputs": [],
   "source": [
    "import face_recognition\n",
    "import numpy as np"
   ]
  },
  {
   "cell_type": "code",
   "execution_count": null,
   "metadata": {},
   "outputs": [],
   "source": [
    "path = 'images\\sveta1.jpg'"
   ]
  },
  {
   "cell_type": "code",
   "execution_count": null,
   "metadata": {},
   "outputs": [],
   "source": [
    "image = face_recognition.load_image_file(path)\n",
    "face_locations = face_recognition.face_locations(image)\n",
    "face_landmarks_list = face_recognition.face_landmarks(image)"
   ]
  },
  {
   "cell_type": "code",
   "execution_count": null,
   "metadata": {},
   "outputs": [],
   "source": [
    "face_locations, face_landmarks_list"
   ]
  },
  {
   "cell_type": "code",
   "execution_count": null,
   "metadata": {},
   "outputs": [],
   "source": [
    "def compare_faces(path1, path2):\n",
    "    picture_of_me = face_recognition.load_image_file(path1)\n",
    "    my_face_encoding = face_recognition.face_encodings(picture_of_me)[0]\n",
    "\n",
    "    unknown_picture = face_recognition.load_image_file(path2)\n",
    "    unknown_face_encoding = face_recognition.face_encodings(unknown_picture)[0]\n",
    "\n",
    "    results = face_recognition.compare_faces([my_face_encoding], unknown_face_encoding)\n",
    "\n",
    "    if results[0] == True:\n",
    "        print(\"It's a picture of me!\")\n",
    "    else:\n",
    "        print(\"It's not a picture of me!\")"
   ]
  },
  {
   "cell_type": "code",
   "execution_count": null,
   "metadata": {},
   "outputs": [],
   "source": [
    "faceCurFrame = face_recognition.face_locations(imgResized)\n",
    "encodeFaceCurFrame = face_recognition.face_encodings(imgResized, faceCurFrame)\n",
    "\n",
    "for encodeFace, faceLoc in zip(encodeFaceCurFrame, faceCurFrame):\n",
    "    matches = face_recognition.compare_faces(encodedListKnown, encodeFace)\n",
    "    faceDis = face_recognition.face_distance(encodedListKnown, encodeFace)\n",
    "    matchIndex = np.argmin(faceDis)"
   ]
  }
 ],
 "metadata": {
  "kernelspec": {
   "display_name": "Python 3.10.5 ('venv': venv)",
   "language": "python",
   "name": "python3"
  },
  "language_info": {
   "name": "python",
   "version": "3.10.5"
  },
  "orig_nbformat": 4,
  "vscode": {
   "interpreter": {
    "hash": "938aaf69ff526fff5f67188c44d7ba9abc359b8abf67e6ed02e9887b9b5273d0"
   }
  }
 },
 "nbformat": 4,
 "nbformat_minor": 2
}
