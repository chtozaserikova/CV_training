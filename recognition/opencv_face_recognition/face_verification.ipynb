{
 "cells": [
  {
   "cell_type": "code",
   "execution_count": 1,
   "metadata": {},
   "outputs": [],
   "source": [
    "import cv2 \n",
    "from PIL import Image"
   ]
  },
  {
   "cell_type": "code",
   "execution_count": 4,
   "metadata": {},
   "outputs": [],
   "source": [
    "def crop_image(path):\n",
    "    face_cascade = cv2.CascadeClassifier(cv2.data.haarcascades + 'haarcascade_frontalface_default.xml')\n",
    "    img = cv2.imread(path, 1)\n",
    "    gray = cv2.cvtColor(img, cv2.COLOR_BGR2GRAY)\n",
    "    faces = face_cascade.detectMultiScale(gray, 1.3, 5)\n",
    "    for (x,y,w,h) in faces:\n",
    "        cv2.rectangle(img,(x,y),(x+w,y+h),(255,0,0),2)\n",
    "        roi_gray = gray[y:y+h, x:x+w]\n",
    "        roi_color = img[y:y+h, x:x+w]\n",
    "\n",
    "    crop_img = img[y:y+h, x:x+w]\n",
    "    res = cv2.resize(crop_img, dsize=(96, 96), interpolation=cv2.INTER_CUBIC)\n",
    "    img = Image.fromarray(res, 'RGB')\n",
    "    img.save('cropped.jpg')"
   ]
  },
  {
   "cell_type": "code",
   "execution_count": 7,
   "metadata": {},
   "outputs": [],
   "source": [
    "crop_image(r'C:\\Users\\Sveta\\projects\\компьютер вижн\\images\\sveta1.jpg')"
   ]
  },
  {
   "cell_type": "code",
   "execution_count": null,
   "metadata": {},
   "outputs": [],
   "source": [
    "database = {}\n",
    "database[\"sveta\"] = img_to_encoding(\"images/sveta1_cropped.jpg\", FRmodel)\n",
    "# database[\"borat\"] = img_to_encoding(\"images/sacha_cropped.jpg\", FRmodel)"
   ]
  },
  {
   "cell_type": "code",
   "execution_count": null,
   "metadata": {},
   "outputs": [],
   "source": [
    "FRmodel = faceRecoModel(input_shape=(3, 96, 96))\n",
    "\n",
    "def verify(image_path, identity, database, model):\n",
    "    encoding =  img_to_encoding(image_path, model)\n",
    "    dist = np.linalg.norm(encoding - database[identity])\n",
    "    if dist < 0.7:\n",
    "        print(\"Hey, it's \" + str(identity) + \", Hello!\")\n",
    "        boolean = True\n",
    "    else:\n",
    "        print(\"I think it's not \" + str(identity) + \", Sorry \")\n",
    "        boolean = False        \n",
    "    return dist, boolean"
   ]
  }
 ],
 "metadata": {
  "kernelspec": {
   "display_name": "Python 3.10.5 ('venv': venv)",
   "language": "python",
   "name": "python3"
  },
  "language_info": {
   "codemirror_mode": {
    "name": "ipython",
    "version": 3
   },
   "file_extension": ".py",
   "mimetype": "text/x-python",
   "name": "python",
   "nbconvert_exporter": "python",
   "pygments_lexer": "ipython3",
   "version": "3.10.5"
  },
  "orig_nbformat": 4,
  "vscode": {
   "interpreter": {
    "hash": "938aaf69ff526fff5f67188c44d7ba9abc359b8abf67e6ed02e9887b9b5273d0"
   }
  }
 },
 "nbformat": 4,
 "nbformat_minor": 2
}
